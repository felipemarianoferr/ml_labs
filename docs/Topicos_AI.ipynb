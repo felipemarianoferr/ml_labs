{
 "cells": [
  {
   "cell_type": "markdown",
   "metadata": {},
   "source": [
    "# Topicos de estudo para a AI"
   ]
  },
  {
   "cell_type": "markdown",
   "metadata": {},
   "source": [
    "## Fases de um projeto de machine learning versus etapas do CRISP-DM\n",
    "\n",
    "<img src=\"crisp.png\" width=70%/>"
   ]
  },
  {
   "cell_type": "markdown",
   "metadata": {},
   "source": [
    "## Análise Exploratória\n",
    "\n",
    "- O que fazer **antes** da separação treino-teste e o que fazer **depois**\n",
    "\n",
    "    - Antes: analise da natureza global das variaveis, independentemente uma das outras\n",
    "\n",
    "        - Só coisa \"ingênua\", que não leva diretamente a construção de modelos\n",
    "\n",
    "        - Análise de anomalias: valores faltantes, outliers, erros grosseiros\n",
    "\n",
    "        - Variáveis contínuas:\n",
    "        \n",
    "            - Medidas descritivas (média, mediana, desvio padrão, etc)\n",
    "\n",
    "            - Histogramas\n",
    "\n",
    "        - Variáveis categóricas:\n",
    "\n",
    "            - Frequências (`value_counts`)\n",
    "\n",
    "    - Separação treino-teste:\n",
    "\n",
    "        - Nada especial, só lembre de fixar o `random_state`\n",
    "\n",
    "            > ```Python\n",
    "            > \n",
    "            > from sklearn.model_selection import train_test_split\n",
    "            > \n",
    "            > SEED = 42\n",
    "            > \n",
    "            > X_train, X_test, y_train, y_test = train_test_split(X, y, test_size=0.2, random_state=SEED)\n",
    "            > \n",
    "            > ```\n",
    "\n",
    "    - Depois: tá liberado, mas só no conjunto de treino\n",
    "\n",
    "        - Analisar dependencias entre variaveis, e entre elas e o target\n",
    "\n",
    "        - Contínua versus contínua:\n",
    "\n",
    "            - Medidas de correlação (Pearson, Spearman, Kendall)\n",
    "\n",
    "            - Gráficos de espalhamento (*scatter plots*)\n",
    "\n",
    "        - Categórica versus categórica\n",
    "\n",
    "            - Teste de independencia: teste qui-quadrado de Pearson (*chi-square*). **Não foi visto em aula, não se preocupe.**\n",
    "\n",
    "            - Tabela de contingência (`cross_tab`)\n",
    "\n",
    "        - Categórica versus contínua\n",
    "\n",
    "            - Boxplot da contínua para cada categoria\n",
    "\n",
    "            - Teste de Kolmogorov-Smirnov entre valores da variável contínua para pares de categorias. **Não foi visto em aula, não se preocupe.**\n"
   ]
  },
  {
   "cell_type": "markdown",
   "metadata": {},
   "source": [
    "## Pipelines"
   ]
  },
  {
   "cell_type": "markdown",
   "metadata": {},
   "source": [
    "### Transformadores"
   ]
  },
  {
   "cell_type": "markdown",
   "metadata": {},
   "source": [
    "<img src=\"transformadores.png\" width=50%/>"
   ]
  },
  {
   "cell_type": "markdown",
   "metadata": {},
   "source": [
    "### Pipelines de transformação de dados"
   ]
  },
  {
   "cell_type": "markdown",
   "metadata": {},
   "source": [
    "<img src=\"pipeline.png\" width=50%/>"
   ]
  },
  {
   "cell_type": "markdown",
   "metadata": {},
   "source": [
    "Para quem olha \"de fora\", uma *pipeline* se parece com um transformador e nada mais! Podemos treiná-lo com o método `fit`:\n",
    "\n",
    "<img src=\"pipeline_transform_train.png\" width=50%/>"
   ]
  },
  {
   "cell_type": "markdown",
   "metadata": {},
   "source": [
    "E o que acontece \"por trás das cortinas\"? Deixa que o *Scikit-Learn* cuida de tudo para você! Mas, para nosso entendimento, eis o que acontece:\n",
    "\n",
    "<img src=\"pipeline_transform_train_internals.png\" width=50%/>"
   ]
  },
  {
   "cell_type": "markdown",
   "metadata": {},
   "source": [
    "Agora que o pipeline está treinado, podemos usá-lo para fazer transformações de dados, como um transformer qualquer!\n",
    "\n",
    "<img src=\"pipeline_transform_apply.png\" width=50%>"
   ]
  },
  {
   "cell_type": "markdown",
   "metadata": {},
   "source": [
    "E, por dentro, o que acontece? O *Scikit-Learn* vai chamar cada transformador, um por vez, em sequência:\n",
    "\n",
    "<img src=\"pipeline_transform_apply_internals.png\" width=50%/>"
   ]
  },
  {
   "cell_type": "markdown",
   "metadata": {},
   "source": [
    "### Pipelines preditoras"
   ]
  },
  {
   "cell_type": "markdown",
   "metadata": {},
   "source": [
    "Toda *pipeline* é feita de uma sequência de estágios *transformadores*, e o último estágio pode ser um *transformador* ou um *modelo preditivo*.\n",
    "\n",
    "- ***Pipeline*** **transformadora**:\n",
    "\n",
    "Quando o último estágio é um *transformador* (como no exemplo anterior), a *pipeline* atua como um *transformador*\n",
    "\n",
    "- ***Pipeline*** **preditora**:\n",
    "\n",
    "Quando o último estágio é um *modelo preditivo*, a *pipeline* atua como um *modelo preditivo*"
   ]
  },
  {
   "cell_type": "markdown",
   "metadata": {},
   "source": [
    "<img src=\"pipeline_predict.png\" width=50%/> "
   ]
  },
  {
   "cell_type": "markdown",
   "metadata": {},
   "source": [
    "Treinamos a *pipeline* preditora do mesmo jeito que treinamos modelos:\n",
    "\n",
    "<img src=\"pipeline_predict_train.png\" width=50%>"
   ]
  },
  {
   "cell_type": "markdown",
   "metadata": {},
   "source": [
    "\"Por trás dos panos\":\n",
    "\n",
    "<img src=\"pipeline_predict_train_internals.png\" width=80%>"
   ]
  },
  {
   "cell_type": "markdown",
   "metadata": {},
   "source": [
    "Para fazer predições, use como se fosse um modelo qualquer!\n",
    "\n",
    "<img src=\"pipeline_predict_apply.png\" width=50%/>"
   ]
  },
  {
   "cell_type": "markdown",
   "metadata": {},
   "source": [
    "Novamente, o que acontece \"por dentro\":\n",
    "\n",
    "<img src=\"pipeline_predict_apply_internals.png\" width=90%/>"
   ]
  },
  {
   "cell_type": "markdown",
   "metadata": {},
   "source": [
    "### `ColumnTransformer`, `Pipeline` e transformadores"
   ]
  },
  {
   "cell_type": "markdown",
   "metadata": {},
   "source": [
    "> ```Python\n",
    "> geo_cols = [\n",
    ">     'longitude',\n",
    ">     'latitude',\n",
    "> ]\n",
    "> \n",
    "> numerical_cols = [\n",
    ">     'housing_median_age',\n",
    ">     'log_households',\n",
    ">     'log_median_income',\n",
    ">     'log_rooms_per_household',\n",
    ">     'log_population_per_household',\n",
    ">     'log_bedrooms_per_room',\n",
    "> ]\n",
    "> \n",
    "> categorical_cols = [\n",
    ">     'ocean_proximity',\n",
    "> ]\n",
    "> \n",
    "> geo_pipeline = Pipeline([\n",
    ">     ('imputer', SimpleImputer(strategy='median')),\n",
    ">     ('cluster', KMeans(n_clusters=50)),\n",
    "> ])\n",
    "> \n",
    "> num_pipeline = Pipeline([\n",
    ">     ('imputer', SimpleImputer(strategy='median')),\n",
    ">     ('poly', PolynomialFeatures(degree=3, include_bias=False)),\n",
    ">     ('scaler', StandardScaler()),\n",
    "> ])\n",
    "> \n",
    "> cat_pipeline = Pipeline([\n",
    ">     ('encoder', OneHotEncoder(sparse_output=False)),\n",
    "> ])\n",
    "> \n",
    "> preprocessing_pipe = ColumnTransformer(\n",
    ">     transformers=[\n",
    ">         ('geo', geo_pipeline, geo_cols),\n",
    ">         ('num', num_pipeline, numerical_cols),\n",
    ">         ('cat', cat_pipeline, categorical_cols),\n",
    ">     ],\n",
    ">     remainder='passthrough',\n",
    "> )\n",
    "> ```"
   ]
  },
  {
   "cell_type": "markdown",
   "metadata": {},
   "source": [
    "<img src=\"column_transformer.png\" width=100%/>"
   ]
  },
  {
   "cell_type": "markdown",
   "metadata": {},
   "source": [
    "## Comparação de modelos"
   ]
  },
  {
   "cell_type": "markdown",
   "metadata": {},
   "source": [
    "### Versão simples: train-test-val split"
   ]
  },
  {
   "cell_type": "markdown",
   "metadata": {},
   "source": [
    "### Versão mais sofisticada: validação cruzada"
   ]
  },
  {
   "cell_type": "markdown",
   "metadata": {},
   "source": [
    "## Ajuste de hiperparâmetros\n",
    "\n",
    "- `GridSearchCV`"
   ]
  },
  {
   "cell_type": "markdown",
   "metadata": {},
   "source": [
    "## Regressão\n",
    "\n",
    "- Medidas de desempenho: MSE, RMSE\n",
    "\n",
    "- Análise de erros:\n",
    "\n",
    "    - Resíduos\n",
    "\n",
    "- Modelo trivial"
   ]
  },
  {
   "cell_type": "markdown",
   "metadata": {},
   "source": [
    "## Classificação"
   ]
  },
  {
   "cell_type": "markdown",
   "metadata": {},
   "source": [
    "- Classificação binária e multiclasse\n",
    "\n",
    "    - Classificador trivial\n",
    "\n",
    "De resto, só classificação binária.\n",
    "\n",
    "- Medidas de desempenho:\n",
    "\n",
    "    - acurácia\n",
    "\n",
    "    - Precision e recall\n",
    "\n",
    "        - trade-off precision vs. recall\n",
    "\n",
    "        - Curva precision-recall, `cross_val_predict`\n",
    "\n",
    "        - métrica F1\n",
    "\n",
    "    - Sensibility e specificity\n",
    "\n",
    "        - trade-off sensibility vs. specificity\n",
    "\n",
    "        - Curva ROC, área sob a curva ROC (AUC ou AUROC)"
   ]
  },
  {
   "cell_type": "markdown",
   "metadata": {},
   "source": [
    "## Modelo linear\n",
    "\n",
    "- Definição\n",
    "\n",
    "- Explicação intuitiva de porque não podemos ter *features colineares*"
   ]
  },
  {
   "cell_type": "markdown",
   "metadata": {},
   "source": []
  }
 ],
 "metadata": {
  "kernelspec": {
   "display_name": "ml",
   "language": "python",
   "name": "python3"
  },
  "language_info": {
   "name": "python",
   "version": "3.12.9"
  }
 },
 "nbformat": 4,
 "nbformat_minor": 2
}
